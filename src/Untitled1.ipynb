{
 "cells": [
  {
   "cell_type": "code",
   "execution_count": 20,
   "metadata": {},
   "outputs": [
    {
     "name": "stdout",
     "output_type": "stream",
     "text": [
      "[('CA', 76670), ('TX', 65659), ('NJ', 61088), ('NY', 33471), ('IL', 25706), ('PA', 21229), ('MD', 20197), ('MA', 15666), ('VA', 15595), ('MI', 15352)]\n"
     ]
    }
   ],
   "source": [
    "from collections import Counter\n",
    "import sys\n",
    "\n",
    "\n",
    "\n",
    "class H1B():\n",
    "\n",
    "    def __init__(self, csv_loc='../input/h1b_input.csv',out1 = '../output/top_10_states.txt',out2 = '../output/top_10_occupations.txt'):\n",
    "\n",
    "        file = open(csv_loc, encoding='utf8')\n",
    "        keys =  file.readline().rstrip('\\n').split(';')[1:]\n",
    "        dict_list =[]\n",
    "        for line in file:\n",
    "            values = line.rstrip('\\n').split(';')[1:]\n",
    "            dict_list.append(dict(zip(keys, values)))\n",
    "        self.applications = dict_list\n",
    "        self.out1 = out1\n",
    "        self.out2 = out2\n",
    "\n",
    "    def create_text_files(self):\n",
    "        \n",
    "        def get_val(d):\n",
    "            return d['LCA_CASE_EMPLOYER_STATE'],d['LCA_CASE_JOB_TITLE']\n",
    "\n",
    "        total_states,total_titles = map(list,zip(*[get_val(d) for d in self.applications if d['STATUS']=='CERTIFIED']))\n",
    "\n",
    "        states = Counter(total_states).most_common(10)\n",
    "        titles = Counter(total_titles).most_common(10)\n",
    "\n",
    "        header1 = 'TOP_STATES;NUMBER_CERTIFIED_APPLICATIONS;PERCENTAGE\\n'\n",
    "        header2 = 'TOP_OCCUPATIONS;NUMBER_CERTIFIED_APPLICATIONS;PERCENTAGE\\n'\n",
    "        \n",
    "        self.write_file(states,header1,len(total_states),self.out1)\n",
    "        self.write_file(titles,header2,len(total_titles),self.out2)\n",
    "\n",
    "        \n",
    "    def write_file(self,data,header,total_apps,out_loc):\n",
    "        with open(out_loc, 'w') as fh:\n",
    "            fh.write(header)\n",
    "            for d in data:\n",
    "        #         print('{0};{1};{2:0.01f}%'.format(state[0],state[1],state[1]/len(a)*100))\n",
    "                fh.write('{0};{1};{2:0.01f}%\\n'.format(d[0],d[1],d[1]/total_apps*100))\n",
    "\n",
    "# if __name__ == '__main__':\n",
    "\n",
    "#     if(len(sys.arg) == 4):\n",
    "#         h1b = H1B(str(sys.arg))\n",
    "#     else:\n",
    "#         h1b = H1B()\n",
    "\n",
    "#     h1b.create_text_files();\n",
    "\n",
    "h1b = H1B()\n",
    "h1b.create_text_files()\n",
    "# sys.arg\n"
   ]
  },
  {
   "cell_type": "code",
   "execution_count": null,
   "metadata": {},
   "outputs": [],
   "source": []
  }
 ],
 "metadata": {
  "kernelspec": {
   "display_name": "Python 3",
   "language": "python",
   "name": "python3"
  },
  "language_info": {
   "codemirror_mode": {
    "name": "ipython",
    "version": 3
   },
   "file_extension": ".py",
   "mimetype": "text/x-python",
   "name": "python",
   "nbconvert_exporter": "python",
   "pygments_lexer": "ipython3",
   "version": "3.6.6"
  }
 },
 "nbformat": 4,
 "nbformat_minor": 2
}

{
 "cells": [
  {
   "cell_type": "code",
   "execution_count": 58,
   "metadata": {},
   "outputs": [],
   "source": [
    "from collections import Counter"
   ]
  },
  {
   "cell_type": "code",
   "execution_count": 4,
   "metadata": {},
   "outputs": [
    {
     "ename": "NameError",
     "evalue": "name 'a' is not defined",
     "output_type": "error",
     "traceback": [
      "\u001b[0;31m---------------------------------------------------------------------------\u001b[0m",
      "\u001b[0;31mNameError\u001b[0m                                 Traceback (most recent call last)",
      "\u001b[0;32m<ipython-input-4-90015ea29418>\u001b[0m in \u001b[0;36m<module>\u001b[0;34m()\u001b[0m\n\u001b[1;32m     16\u001b[0m     \u001b[0;32mfor\u001b[0m \u001b[0mstate\u001b[0m \u001b[0;32min\u001b[0m \u001b[0mstates\u001b[0m\u001b[0;34m:\u001b[0m\u001b[0;34m\u001b[0m\u001b[0m\n\u001b[1;32m     17\u001b[0m \u001b[0;31m#         print('{0};{1};{2:0.01f}%'.format(state[0],state[1],state[1]/len(a)*100))\u001b[0m\u001b[0;34m\u001b[0m\u001b[0;34m\u001b[0m\u001b[0m\n\u001b[0;32m---> 18\u001b[0;31m         \u001b[0mfh\u001b[0m\u001b[0;34m.\u001b[0m\u001b[0mwrite\u001b[0m\u001b[0;34m(\u001b[0m\u001b[0;34m'{0};{1};{2:0.01f}%\\n'\u001b[0m\u001b[0;34m.\u001b[0m\u001b[0mformat\u001b[0m\u001b[0;34m(\u001b[0m\u001b[0mstate\u001b[0m\u001b[0;34m[\u001b[0m\u001b[0;36m0\u001b[0m\u001b[0;34m]\u001b[0m\u001b[0;34m,\u001b[0m\u001b[0mstate\u001b[0m\u001b[0;34m[\u001b[0m\u001b[0;36m1\u001b[0m\u001b[0;34m]\u001b[0m\u001b[0;34m,\u001b[0m\u001b[0mstate\u001b[0m\u001b[0;34m[\u001b[0m\u001b[0;36m1\u001b[0m\u001b[0;34m]\u001b[0m\u001b[0;34m/\u001b[0m\u001b[0mlen\u001b[0m\u001b[0;34m(\u001b[0m\u001b[0ma\u001b[0m\u001b[0;34m)\u001b[0m\u001b[0;34m*\u001b[0m\u001b[0;36m100\u001b[0m\u001b[0;34m)\u001b[0m\u001b[0;34m)\u001b[0m\u001b[0;34m\u001b[0m\u001b[0m\n\u001b[0m\u001b[1;32m     19\u001b[0m \u001b[0;34m\u001b[0m\u001b[0m\n\u001b[1;32m     20\u001b[0m \u001b[0;34m\u001b[0m\u001b[0m\n",
      "\u001b[0;31mNameError\u001b[0m: name 'a' is not defined"
     ]
    }
   ],
   "source": [
    "from collections import Counter\n",
    "\n",
    "file = open('../input/h1b_input.csv', encoding='utf8')\n",
    "keys =  file.readline().rstrip('\\n').split(';')[1:]\n",
    "dict_list =[]\n",
    "count_cert =0;\n",
    "for line in file:\n",
    "    values = line.rstrip('\\n').split(';')[1:]\n",
    "    dict_list.append(dict(zip(keys, values)))\n",
    "    \n",
    "total_states = [d['LCA_CASE_EMPLOYER_STATE'] for d in dict_list if d['STATUS']=='CERTIFIED']\n",
    "states = Counter(total_states).most_common(10)\n",
    "\n",
    "with open('top_10_states.txt', 'w') as fh:   \n",
    "    fh.write('TOP_STATES;NUMBER_CERTIFIED_APPLICATIONS;PERCENTAGE')\n",
    "    for state in states:\n",
    "#         print('{0};{1};{2:0.01f}%'.format(state[0],state[1],state[1]/len(a)*100))\n",
    "        fh.write('{0};{1};{2:0.01f}%\\n'.format(state[0],state[1],state[1]/len(a)*100))\n",
    "    \n",
    "    \n",
    "total_titles = [d['LCA_CASE_JOB_TITLE'] for d in dict_list if d['STATUS']=='CERTIFIED']\n",
    "titles = Counter(total_titles).most_common(10)\n",
    "\n",
    "with open('top_10_occupations.txt', 'w') as fh:   \n",
    "    fh.write('TOP_OCCUPATIONS;NUMBER_CERTIFIED_APPLICATIONS;PERCENTAGE')\n",
    "\n",
    "    for title in titles:\n",
    "    #     print('{0};{1};{2:0.01f}%'.format(title[0],title[1],title[1]/len(b)*100))\n",
    "        fh.write('{0};{1};{2:0.01f}%\\n'.format(title[0],title[1],title[1]/len(b)*100))\n",
    "\n",
    "\n",
    "    \n",
    "    \n",
    "    "
   ]
  },
  {
   "cell_type": "code",
   "execution_count": 71,
   "metadata": {},
   "outputs": [
    {
     "data": {
      "text/plain": [
       "{'LCA_CASE_NUMBER': 'I-200-09162-143337',\n",
       " 'STATUS': 'CERTIFIED',\n",
       " 'LCA_CASE_SUBMIT': '2014-03-17 11:11:45',\n",
       " 'DECISION_DATE': '2014-03-21 23:11:51',\n",
       " 'VISA_CLASS': 'H-1B',\n",
       " 'LCA_CASE_EMPLOYMENT_START_DATE': '2014-09-15 00:00:00',\n",
       " 'LCA_CASE_EMPLOYMENT_END_DATE': '2017-09-15 00:00:00',\n",
       " 'LCA_CASE_EMPLOYER_NAME': 'EYE SPECIALISTS OF INDIANA, P.C.',\n",
       " 'LCA_CASE_EMPLOYER_ADDRESS': '1901 N. MERIDIAN ST.',\n",
       " 'LCA_CASE_EMPLOYER_CITY': 'INDIANAPOLIS',\n",
       " 'LCA_CASE_EMPLOYER_STATE': 'IN',\n",
       " 'LCA_CASE_EMPLOYER_POSTAL_CODE': '46202',\n",
       " 'LCA_CASE_SOC_CODE': '29-1041',\n",
       " 'LCA_CASE_SOC_NAME': 'Optometrists',\n",
       " 'LCA_CASE_JOB_TITLE': 'OPTOMETRIST',\n",
       " 'LCA_CASE_WAGE_RATE_FROM': '65000.0',\n",
       " 'LCA_CASE_WAGE_RATE_TO': '',\n",
       " 'LCA_CASE_WAGE_RATE_UNIT': 'Year',\n",
       " 'FULL_TIME_POS': 'Y',\n",
       " 'TOTAL_WORKERS': '1.0',\n",
       " 'LCA_CASE_WORKLOC1_CITY': 'INDIANAPOLIS',\n",
       " 'LCA_CASE_WORKLOC1_STATE': 'IN',\n",
       " 'PW_1': '64251.0',\n",
       " 'PW_UNIT_1': 'Year',\n",
       " 'PW_SOURCE_1': 'Other',\n",
       " 'OTHER_WAGE_SOURCE_1': 'OFLC ONLINE DATA CENTER',\n",
       " 'YR_SOURCE_PUB_1': '2013.0',\n",
       " 'LCA_CASE_WORKLOC2_CITY': 'INDIANAPOLIS',\n",
       " 'LCA_CASE_WORKLOC2_STATE': 'IN',\n",
       " 'PW_2': '64251.0',\n",
       " 'PW_UNIT_2': 'Year',\n",
       " 'PW_SOURCE_2': 'Other',\n",
       " 'OTHER_WAGE_SOURCE_2': 'OFLC ONLINE DATA CENTER',\n",
       " 'YR_SOURCE_PUB_2': 'OFLC ONLINE DATA CENTER',\n",
       " 'LCA_CASE_NAICS_CODE': '621320.0'}"
      ]
     },
     "execution_count": 71,
     "metadata": {},
     "output_type": "execute_result"
    }
   ],
   "source": [
    "dict_list[1]"
   ]
  },
  {
   "cell_type": "code",
   "execution_count": 8,
   "metadata": {},
   "outputs": [],
   "source": [
    "def get_val(d):\n",
    "    return d['LCA_CASE_EMPLOYER_STATE'],d['LCA_CASE_JOB_TITLE']"
   ]
  },
  {
   "cell_type": "code",
   "execution_count": null,
   "metadata": {},
   "outputs": [],
   "source": []
  },
  {
   "cell_type": "code",
   "execution_count": 11,
   "metadata": {},
   "outputs": [],
   "source": [
    "xlist,ylist = map(list,zip(*[get_val(d) for d in dict_list if d['STATUS']=='CERTIFIED']))"
   ]
  },
  {
   "cell_type": "code",
   "execution_count": 15,
   "metadata": {},
   "outputs": [
    {
     "data": {
      "text/plain": [
       "455144"
      ]
     },
     "execution_count": 15,
     "metadata": {},
     "output_type": "execute_result"
    }
   ],
   "source": [
    "len(ylist)"
   ]
  },
  {
   "cell_type": "code",
   "execution_count": 7,
   "metadata": {},
   "outputs": [
    {
     "ename": "KeyError",
     "evalue": "('LCA_CASE_EMPLOYER_STATE', 'LCA_CASE_JOB_TITLE')",
     "output_type": "error",
     "traceback": [
      "\u001b[0;31m---------------------------------------------------------------------------\u001b[0m",
      "\u001b[0;31mKeyError\u001b[0m                                  Traceback (most recent call last)",
      "\u001b[0;32m<ipython-input-7-1070e2bab81b>\u001b[0m in \u001b[0;36m<module>\u001b[0;34m()\u001b[0m\n\u001b[0;32m----> 1\u001b[0;31m \u001b[0ma\u001b[0m\u001b[0;34m,\u001b[0m\u001b[0mb\u001b[0m \u001b[0;34m=\u001b[0m \u001b[0;34m[\u001b[0m\u001b[0md\u001b[0m\u001b[0;34m[\u001b[0m\u001b[0;34m'LCA_CASE_EMPLOYER_STATE'\u001b[0m\u001b[0;34m,\u001b[0m\u001b[0;34m'LCA_CASE_JOB_TITLE'\u001b[0m\u001b[0;34m]\u001b[0m \u001b[0;32mfor\u001b[0m \u001b[0md\u001b[0m \u001b[0;32min\u001b[0m \u001b[0mdict_list\u001b[0m \u001b[0;32mif\u001b[0m \u001b[0md\u001b[0m\u001b[0;34m[\u001b[0m\u001b[0;34m'STATUS'\u001b[0m\u001b[0;34m]\u001b[0m\u001b[0;34m==\u001b[0m\u001b[0;34m'CERTIFIED'\u001b[0m\u001b[0;34m]\u001b[0m\u001b[0;34m\u001b[0m\u001b[0m\n\u001b[0m\u001b[1;32m      2\u001b[0m \u001b[0;31m# states = Counter(total_states).most_common(10)\u001b[0m\u001b[0;34m\u001b[0m\u001b[0;34m\u001b[0m\u001b[0m\n",
      "\u001b[0;32m<ipython-input-7-1070e2bab81b>\u001b[0m in \u001b[0;36m<listcomp>\u001b[0;34m(.0)\u001b[0m\n\u001b[0;32m----> 1\u001b[0;31m \u001b[0ma\u001b[0m\u001b[0;34m,\u001b[0m\u001b[0mb\u001b[0m \u001b[0;34m=\u001b[0m \u001b[0;34m[\u001b[0m\u001b[0md\u001b[0m\u001b[0;34m[\u001b[0m\u001b[0;34m'LCA_CASE_EMPLOYER_STATE'\u001b[0m\u001b[0;34m,\u001b[0m\u001b[0;34m'LCA_CASE_JOB_TITLE'\u001b[0m\u001b[0;34m]\u001b[0m \u001b[0;32mfor\u001b[0m \u001b[0md\u001b[0m \u001b[0;32min\u001b[0m \u001b[0mdict_list\u001b[0m \u001b[0;32mif\u001b[0m \u001b[0md\u001b[0m\u001b[0;34m[\u001b[0m\u001b[0;34m'STATUS'\u001b[0m\u001b[0;34m]\u001b[0m\u001b[0;34m==\u001b[0m\u001b[0;34m'CERTIFIED'\u001b[0m\u001b[0;34m]\u001b[0m\u001b[0;34m\u001b[0m\u001b[0m\n\u001b[0m\u001b[1;32m      2\u001b[0m \u001b[0;31m# states = Counter(total_states).most_common(10)\u001b[0m\u001b[0;34m\u001b[0m\u001b[0;34m\u001b[0m\u001b[0m\n",
      "\u001b[0;31mKeyError\u001b[0m: ('LCA_CASE_EMPLOYER_STATE', 'LCA_CASE_JOB_TITLE')"
     ]
    }
   ],
   "source": [
    "a,b = [d['LCA_CASE_EMPLOYER_STATE','LCA_CASE_JOB_TITLE'] for d in dict_list if d['STATUS']=='CERTIFIED']\n",
    "# states = Counter(total_states).most_common(10)"
   ]
  },
  {
   "cell_type": "code",
   "execution_count": 109,
   "metadata": {},
   "outputs": [],
   "source": [
    "with open('top_10_states.txt', 'w') as fh:   \n",
    "    fh.write('TOP_STATES;NUMBER_CERTIFIED_APPLICATIONS;PERCENTAGE')\n",
    "    for state in states:\n",
    "#         print('{0};{1};{2:0.01f}%'.format(state[0],state[1],state[1]/len(a)*100))\n",
    "        fh.write('{0};{1};{2:0.01f}%\\n'.format(state[0],state[1],state[1]/len(a)*100))"
   ]
  },
  {
   "cell_type": "code",
   "execution_count": 110,
   "metadata": {},
   "outputs": [],
   "source": [
    "total_states = [d['LCA_CASE_EMPLOYER_STATE'] for d in dict_list if d['STATUS']=='CERTIFIED']\n",
    "states = Counter(total_states).most_common(10)\n",
    "\n",
    "with open('top_10_states.txt', 'w') as fh:   \n",
    "    fh.write('TOP_STATES;NUMBER_CERTIFIED_APPLICATIONS;PERCENTAGE')\n",
    "    for state in states:\n",
    "#         print('{0};{1};{2:0.01f}%'.format(state[0],state[1],state[1]/len(a)*100))\n",
    "        fh.write('{0};{1};{2:0.01f}%\\n'.format(state[0],state[1],state[1]/len(a)*100))\n",
    "    \n",
    "    \n",
    "total_titles = [d['LCA_CASE_JOB_TITLE'] for d in dict_list if d['STATUS']=='CERTIFIED']\n",
    "titles = Counter(total_titles).most_common(10)\n",
    "\n",
    "with open('top_10_occupations.txt', 'w') as fh:   \n",
    "    fh.write('TOP_OCCUPATIONS;NUMBER_CERTIFIED_APPLICATIONS;PERCENTAGE')\n",
    "\n",
    "    for title in titles:\n",
    "    #     print('{0};{1};{2:0.01f}%'.format(title[0],title[1],title[1]/len(b)*100))\n",
    "        fh.write('{0};{1};{2:0.01f}%\\n'.format(title[0],title[1],title[1]/len(b)*100))\n"
   ]
  },
  {
   "cell_type": "code",
   "execution_count": 111,
   "metadata": {},
   "outputs": [],
   "source": [
    "with open('top_10_occupations.txt', 'w') as fh:   \n",
    "    fh.write('TOP_OCCUPATIONS;NUMBER_CERTIFIED_APPLICATIONS;PERCENTAGE')\n",
    "\n",
    "    for title in titles:\n",
    "    #     print('{0};{1};{2:0.01f}%'.format(title[0],title[1],title[1]/len(b)*100))\n",
    "        fh.write('{0};{1};{2:0.01f}%\\n'.format(title[0],title[1],title[1]/len(b)*100))"
   ]
  },
  {
   "cell_type": "code",
   "execution_count": 83,
   "metadata": {},
   "outputs": [
    {
     "data": {
      "text/plain": [
       "'5.7'"
      ]
     },
     "execution_count": 83,
     "metadata": {},
     "output_type": "execute_result"
    }
   ],
   "source": [
    "'{0:0.01f}'.format(5.666)"
   ]
  },
  {
   "cell_type": "code",
   "execution_count": 17,
   "metadata": {},
   "outputs": [],
   "source": [
    "file = open('../input/H1B_FY_2015.csv', encoding='utf8')\n",
    "keys =  file.readline().rstrip('\\n').split(';')[1:]\n",
    "dict_list =[]\n",
    "count_cert =0;\n",
    "for line in file:\n",
    "    values = line.rstrip('\\n').split(';')[1:]\n",
    "    dict_list.append(dict(zip(keys, values)))\n",
    "    "
   ]
  },
  {
   "cell_type": "code",
   "execution_count": 18,
   "metadata": {},
   "outputs": [
    {
     "data": {
      "text/plain": [
       "{'CASE_NUMBER': 'I-200-09121-701936',\n",
       " 'CASE_STATUS': 'WITHDRAWN',\n",
       " 'CASE_SUBMITTED': '2015-02-05',\n",
       " 'DECISION_DATE': '2015-02-05',\n",
       " 'VISA_CLASS': 'H-1B',\n",
       " 'EMPLOYMENT_START_DATE': '02/09/2015',\n",
       " 'EMPLOYMENT_END_DATE': '02/28/2015',\n",
       " 'EMPLOYER_NAME': 'MEDTRONIC, INC.',\n",
       " 'EMPLOYER_ADDRESS1': '710 MEDTRONIC PARKWAY NE',\n",
       " 'EMPLOYER_ADDRESS2': '',\n",
       " 'EMPLOYER_CITY': 'MINNEAPOLIS',\n",
       " 'EMPLOYER_STATE': 'MN',\n",
       " 'EMPLOYER_POSTAL_CODE': '55432',\n",
       " 'EMPLOYER_COUNTRY': 'UNITED STATES OF AMERICA',\n",
       " 'EMPLOYER_PROVINCE': '',\n",
       " 'EMPLOYER_PHONE': '7635052710.0',\n",
       " 'EMPLOYER_PHONE_EXT': '',\n",
       " 'AGENT_ATTORNEY_NAME': 'DEBRA SCHNEIDER',\n",
       " 'AGENT_ATTORNEY_CITY': 'MINNEAPOLIS',\n",
       " 'AGENT_ATTORNEY_STATE': 'MN',\n",
       " 'JOB_TITLE': 'MECHANICAL ENGINEER',\n",
       " 'SOC_CODE': '17-2141.00',\n",
       " 'SOC_NAME': 'MECHANICAL ENGINEERS',\n",
       " 'NAIC_CODE': '334510.0',\n",
       " 'TOTAL WORKERS': '1.0',\n",
       " 'FULL_TIME_POSITION': 'Y',\n",
       " 'PREVAILING_WAGE': '19000.0',\n",
       " 'PW_UNIT_OF_PAY': 'Year',\n",
       " 'PW_WAGE_LEVEL': 'Level I',\n",
       " 'PW_WAGE_SOURCE': 'OES',\n",
       " 'PW_WAGE_SOURCE_YEAR': '2014.0',\n",
       " 'PW_WAGE_SOURCE_OTHER': 'ONLINE DATA SURVEY',\n",
       " 'WAGE_RATE_OF_PAY': '20000 -',\n",
       " 'WAGE_UNIT_OF_PAY': 'Year',\n",
       " 'H-1B_DEPENDENT': 'N',\n",
       " 'WILLFUL VIOLATOR': 'N',\n",
       " 'WORKSITE_CITY': 'EDEN PRAIRIE',\n",
       " 'WORKSITE_COUNTY': 'STERNS',\n",
       " 'WORKSITE_STATE': 'CA',\n",
       " 'WORKSITE_POSTAL_CODE': '55412'}"
      ]
     },
     "execution_count": 18,
     "metadata": {},
     "output_type": "execute_result"
    }
   ],
   "source": [
    "dict_list[0]"
   ]
  },
  {
   "cell_type": "code",
   "execution_count": 29,
   "metadata": {},
   "outputs": [],
   "source": [
    "from collections import Counter\n",
    "\n",
    "file = open('../insight_testsuite/tests/test_1/input/h1b_input.csv', encoding='utf8')\n",
    "keys =  file.readline().rstrip('\\n').split(';')[1:]\n",
    "dict_list =[]\n",
    "count_cert =0;\n",
    "for line in file:\n",
    "    values = line.rstrip('\\n').split(';')[1:]\n",
    "    dict_list.append(dict(zip(keys, values)))\n",
    "    \n",
    "total_states = [d['WORKSITE_STATE'].replace('\"', '') for d in dict_list if d['CASE_STATUS']=='CERTIFIED']\n",
    "states = Counter(total_states).most_common(10)\n",
    "\n",
    "total_titles = [d['SOC_NAME'].replace('\"', '') for d in dict_list if d['CASE_STATUS']=='CERTIFIED']\n",
    "titles = Counter(total_titles).most_common(10)\n",
    "                                           "
   ]
  },
  {
   "cell_type": "code",
   "execution_count": 47,
   "metadata": {},
   "outputs": [
    {
     "data": {
      "text/plain": [
       "[('SOFTWARE DEVELOPERS, APPLICATIONS', 6),\n",
       " ('ACCOUNTANTS AND AUDITORS', 1),\n",
       " ('DATABASE ADMINISTRATORS', 1),\n",
       " ('COMPUTER SYSTEMS ANALYST', 1),\n",
       " ('COMPUTER OCCUPATIONS, ALL OTHER', 1)]"
      ]
     },
     "execution_count": 47,
     "metadata": {},
     "output_type": "execute_result"
    }
   ],
   "source": [
    "import operator\n",
    "# sorted(titles,key=operator.itemgetter(1),reverse=True)\n"
   ]
  },
  {
   "cell_type": "code",
   "execution_count": null,
   "metadata": {},
   "outputs": [],
   "source": []
  }
 ],
 "metadata": {
  "kernelspec": {
   "display_name": "Python 3",
   "language": "python",
   "name": "python3"
  },
  "language_info": {
   "codemirror_mode": {
    "name": "ipython",
    "version": 3
   },
   "file_extension": ".py",
   "mimetype": "text/x-python",
   "name": "python",
   "nbconvert_exporter": "python",
   "pygments_lexer": "ipython3",
   "version": "3.6.6"
  }
 },
 "nbformat": 4,
 "nbformat_minor": 2
}

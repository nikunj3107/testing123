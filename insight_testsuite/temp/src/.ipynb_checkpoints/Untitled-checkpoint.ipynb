{
 "cells": [
  {
   "cell_type": "code",
   "execution_count": 58,
   "metadata": {},
   "outputs": [],
   "source": [
    "from collections import Counter"
   ]
  },
  {
   "cell_type": "code",
   "execution_count": 21,
   "metadata": {},
   "outputs": [],
   "source": [
    "file = open('H1B_FY_2014.csv', encoding='utf8')\n",
    "keys =  file.readline().rstrip('\\n').split(';')[1:]\n",
    "dict_list =[]\n",
    "count_cert =0;\n",
    "for line in file:\n",
    "    values = line.rstrip('\\n').split(';')[1:]\n",
    "    dict_list.append(dict(zip(keys, values)))\n",
    "    \n",
    "    \n",
    "\n",
    "    \n",
    "    \n",
    "    "
   ]
  },
  {
   "cell_type": "code",
   "execution_count": 71,
   "metadata": {},
   "outputs": [
    {
     "data": {
      "text/plain": [
       "{'LCA_CASE_NUMBER': 'I-200-09162-143337',\n",
       " 'STATUS': 'CERTIFIED',\n",
       " 'LCA_CASE_SUBMIT': '2014-03-17 11:11:45',\n",
       " 'DECISION_DATE': '2014-03-21 23:11:51',\n",
       " 'VISA_CLASS': 'H-1B',\n",
       " 'LCA_CASE_EMPLOYMENT_START_DATE': '2014-09-15 00:00:00',\n",
       " 'LCA_CASE_EMPLOYMENT_END_DATE': '2017-09-15 00:00:00',\n",
       " 'LCA_CASE_EMPLOYER_NAME': 'EYE SPECIALISTS OF INDIANA, P.C.',\n",
       " 'LCA_CASE_EMPLOYER_ADDRESS': '1901 N. MERIDIAN ST.',\n",
       " 'LCA_CASE_EMPLOYER_CITY': 'INDIANAPOLIS',\n",
       " 'LCA_CASE_EMPLOYER_STATE': 'IN',\n",
       " 'LCA_CASE_EMPLOYER_POSTAL_CODE': '46202',\n",
       " 'LCA_CASE_SOC_CODE': '29-1041',\n",
       " 'LCA_CASE_SOC_NAME': 'Optometrists',\n",
       " 'LCA_CASE_JOB_TITLE': 'OPTOMETRIST',\n",
       " 'LCA_CASE_WAGE_RATE_FROM': '65000.0',\n",
       " 'LCA_CASE_WAGE_RATE_TO': '',\n",
       " 'LCA_CASE_WAGE_RATE_UNIT': 'Year',\n",
       " 'FULL_TIME_POS': 'Y',\n",
       " 'TOTAL_WORKERS': '1.0',\n",
       " 'LCA_CASE_WORKLOC1_CITY': 'INDIANAPOLIS',\n",
       " 'LCA_CASE_WORKLOC1_STATE': 'IN',\n",
       " 'PW_1': '64251.0',\n",
       " 'PW_UNIT_1': 'Year',\n",
       " 'PW_SOURCE_1': 'Other',\n",
       " 'OTHER_WAGE_SOURCE_1': 'OFLC ONLINE DATA CENTER',\n",
       " 'YR_SOURCE_PUB_1': '2013.0',\n",
       " 'LCA_CASE_WORKLOC2_CITY': 'INDIANAPOLIS',\n",
       " 'LCA_CASE_WORKLOC2_STATE': 'IN',\n",
       " 'PW_2': '64251.0',\n",
       " 'PW_UNIT_2': 'Year',\n",
       " 'PW_SOURCE_2': 'Other',\n",
       " 'OTHER_WAGE_SOURCE_2': 'OFLC ONLINE DATA CENTER',\n",
       " 'YR_SOURCE_PUB_2': 'OFLC ONLINE DATA CENTER',\n",
       " 'LCA_CASE_NAICS_CODE': '621320.0'}"
      ]
     },
     "execution_count": 71,
     "metadata": {},
     "output_type": "execute_result"
    }
   ],
   "source": [
    "dict_list[1]"
   ]
  },
  {
   "cell_type": "code",
   "execution_count": 108,
   "metadata": {},
   "outputs": [],
   "source": [
    "total_states = [d['LCA_CASE_EMPLOYER_STATE'] for d in dict_list if d['STATUS']=='CERTIFIED']\n",
    "states = Counter(total_states).most_common(10)"
   ]
  },
  {
   "cell_type": "code",
   "execution_count": 109,
   "metadata": {},
   "outputs": [],
   "source": [
    "with open('top_10_states.txt', 'w') as fh:   \n",
    "    fh.write('TOP_STATES;NUMBER_CERTIFIED_APPLICATIONS;PERCENTAGE')\n",
    "    for state in states:\n",
    "#         print('{0};{1};{2:0.01f}%'.format(state[0],state[1],state[1]/len(a)*100))\n",
    "        fh.write('{0};{1};{2:0.01f}%\\n'.format(state[0],state[1],state[1]/len(a)*100))"
   ]
  },
  {
   "cell_type": "code",
   "execution_count": 110,
   "metadata": {},
   "outputs": [],
   "source": [
    "total_titles = [d['LCA_CASE_JOB_TITLE'] for d in dict_list if d['STATUS']=='CERTIFIED']\n",
    "titles = Counter(total_titles).most_common(10)\n",
    "\n",
    "with open('top_10_occupations.txt', 'w') as fh:   \n",
    "    fh.write('TOP_OCCUPATIONS;NUMBER_CERTIFIED_APPLICATIONS;PERCENTAGE')\n",
    "\n",
    "    for title in titles:\n",
    "    #     print('{0};{1};{2:0.01f}%'.format(title[0],title[1],title[1]/len(b)*100))\n",
    "        fh.write('{0};{1};{2:0.01f}%\\n'.format(title[0],title[1],title[1]/len(b)*100))\n"
   ]
  },
  {
   "cell_type": "code",
   "execution_count": 111,
   "metadata": {},
   "outputs": [],
   "source": [
    "with open('top_10_occupations.txt', 'w') as fh:   \n",
    "    fh.write('TOP_OCCUPATIONS;NUMBER_CERTIFIED_APPLICATIONS;PERCENTAGE')\n",
    "\n",
    "    for title in titles:\n",
    "    #     print('{0};{1};{2:0.01f}%'.format(title[0],title[1],title[1]/len(b)*100))\n",
    "        fh.write('{0};{1};{2:0.01f}%\\n'.format(title[0],title[1],title[1]/len(b)*100))"
   ]
  },
  {
   "cell_type": "code",
   "execution_count": 83,
   "metadata": {},
   "outputs": [
    {
     "data": {
      "text/plain": [
       "'5.7'"
      ]
     },
     "execution_count": 83,
     "metadata": {},
     "output_type": "execute_result"
    }
   ],
   "source": [
    "'{0:0.01f}'.format(5.666)"
   ]
  },
  {
   "cell_type": "code",
   "execution_count": null,
   "metadata": {},
   "outputs": [],
   "source": []
  }
 ],
 "metadata": {
  "kernelspec": {
   "display_name": "Python 3",
   "language": "python",
   "name": "python3"
  },
  "language_info": {
   "codemirror_mode": {
    "name": "ipython",
    "version": 3
   },
   "file_extension": ".py",
   "mimetype": "text/x-python",
   "name": "python",
   "nbconvert_exporter": "python",
   "pygments_lexer": "ipython3",
   "version": "3.6.6"
  }
 },
 "nbformat": 4,
 "nbformat_minor": 2
}
